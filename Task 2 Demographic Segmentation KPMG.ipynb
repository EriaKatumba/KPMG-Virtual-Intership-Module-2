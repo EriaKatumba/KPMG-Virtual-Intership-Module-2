{
 "cells": [
  {
   "cell_type": "code",
   "execution_count": 1,
   "id": "7e1abbf6-59e0-4c3c-b211-10d8bf2364c8",
   "metadata": {},
   "outputs": [],
   "source": [
    "import pandas as pd, numpy as np, matplotlib.pyplot as plt, seaborn as sns"
   ]
  },
  {
   "cell_type": "code",
   "execution_count": 2,
   "id": "b4b574f1-357e-46cf-b038-5ba03b5a3238",
   "metadata": {},
   "outputs": [
    {
     "name": "stderr",
     "output_type": "stream",
     "text": [
      "C:\\Users\\ERIA\\AppData\\Local\\Temp/ipykernel_3160/1440462824.py:3: FutureWarning: Inferring datetime64[ns] from data containing strings is deprecated and will be removed in a future version. To retain the old behavior explicitly pass Series(data, dtype={value.dtype})\n",
      "  cd=pd.read_excel(r'C:\\Users\\ERIA\\OneDrive\\THE FORAGE\\KPMG\\KPMG_VI_New_raw_data_update_final.xlsx', sheet_name='CustomerDemographic',skiprows=1)\n"
     ]
    }
   ],
   "source": [
    "td=ad=pd.read_excel(r'C:\\Users\\ERIA\\OneDrive\\THE FORAGE\\KPMG\\KPMG_VI_New_raw_data_update_final.xlsx', sheet_name='Transactions',skiprows=1)\n",
    "ad=pd.read_excel(r'C:\\Users\\ERIA\\OneDrive\\THE FORAGE\\KPMG\\KPMG_VI_New_raw_data_update_final.xlsx', sheet_name='CustomerAddress',skiprows=1)\n",
    "cd=pd.read_excel(r'C:\\Users\\ERIA\\OneDrive\\THE FORAGE\\KPMG\\KPMG_VI_New_raw_data_update_final.xlsx', sheet_name='CustomerDemographic',skiprows=1)"
   ]
  },
  {
   "cell_type": "code",
   "execution_count": 3,
   "id": "4ce97654-3b5d-4b14-9029-8993e0312941",
   "metadata": {
    "tags": []
   },
   "outputs": [
    {
     "name": "stderr",
     "output_type": "stream",
     "text": [
      "C:\\Users\\ERIA\\AppData\\Local\\Temp/ipykernel_3160/1178658489.py:1: FutureWarning: Treating datetime data as categorical rather than numeric in `.describe` is deprecated and will be removed in a future version of pandas. Specify `datetime_is_numeric=True` to silence this warning and adopt the future behavior now.\n",
      "  td['transaction_date'].describe()\n"
     ]
    },
    {
     "data": {
      "text/plain": [
       "count                   20000\n",
       "unique                    364\n",
       "top       2017-02-14 00:00:00\n",
       "freq                       82\n",
       "first     2017-01-01 00:00:00\n",
       "last      2017-12-30 00:00:00\n",
       "Name: transaction_date, dtype: object"
      ]
     },
     "execution_count": 3,
     "metadata": {},
     "output_type": "execute_result"
    }
   ],
   "source": [
    "td['transaction_date'].describe()"
   ]
  },
  {
   "cell_type": "code",
   "execution_count": 4,
   "id": "a9c120af-2be9-47ff-98b4-d3d334177f5a",
   "metadata": {},
   "outputs": [
    {
     "name": "stdout",
     "output_type": "stream",
     "text": [
      "<class 'pandas.core.frame.DataFrame'>\n",
      "RangeIndex: 4000 entries, 0 to 3999\n",
      "Data columns (total 13 columns):\n",
      " #   Column                               Non-Null Count  Dtype         \n",
      "---  ------                               --------------  -----         \n",
      " 0   customer_id                          4000 non-null   int64         \n",
      " 1   first_name                           4000 non-null   object        \n",
      " 2   last_name                            3875 non-null   object        \n",
      " 3   gender                               4000 non-null   object        \n",
      " 4   past_3_years_bike_related_purchases  4000 non-null   int64         \n",
      " 5   DOB                                  3913 non-null   datetime64[ns]\n",
      " 6   job_title                            3494 non-null   object        \n",
      " 7   job_industry_category                3344 non-null   object        \n",
      " 8   wealth_segment                       4000 non-null   object        \n",
      " 9   deceased_indicator                   4000 non-null   object        \n",
      " 10  default                              3698 non-null   object        \n",
      " 11  owns_car                             4000 non-null   object        \n",
      " 12  tenure                               3913 non-null   float64       \n",
      "dtypes: datetime64[ns](1), float64(1), int64(2), object(9)\n",
      "memory usage: 406.4+ KB\n"
     ]
    }
   ],
   "source": [
    "cd.info()"
   ]
  },
  {
   "cell_type": "code",
   "execution_count": 5,
   "id": "ffb4e0d2-fefb-4f71-a824-2acd1dcdfd1e",
   "metadata": {},
   "outputs": [
    {
     "data": {
      "text/plain": [
       "(4000, 11)"
      ]
     },
     "execution_count": 5,
     "metadata": {},
     "output_type": "execute_result"
    }
   ],
   "source": [
    "#drop names fields\n",
    "cd.drop(columns=['first_name','last_name'],inplace=True)\n",
    "cd.shape"
   ]
  },
  {
   "cell_type": "code",
   "execution_count": 6,
   "id": "e9607c17-8105-4cf6-9e21-ef4fa5f2750d",
   "metadata": {},
   "outputs": [],
   "source": [
    "cd.dropna(subset=['DOB',],inplace=True)\n",
    "cd.drop(columns=['default'],inplace=True)"
   ]
  },
  {
   "cell_type": "code",
   "execution_count": 7,
   "id": "e8d835f9-960b-481f-92f4-03c370aa4066",
   "metadata": {},
   "outputs": [
    {
     "data": {
      "text/plain": [
       "(3913, 10)"
      ]
     },
     "execution_count": 7,
     "metadata": {},
     "output_type": "execute_result"
    }
   ],
   "source": [
    "cd.shape"
   ]
  },
  {
   "cell_type": "code",
   "execution_count": 8,
   "id": "fa0a1f7e-1574-40aa-b50b-c04ef7923df1",
   "metadata": {},
   "outputs": [],
   "source": [
    "#remove deceased\n",
    "cd=cd[cd['deceased_indicator']=='N']"
   ]
  },
  {
   "cell_type": "code",
   "execution_count": 9,
   "id": "570db5ee-6938-46c8-9d9a-1d898ec6bb3a",
   "metadata": {},
   "outputs": [
    {
     "data": {
      "text/plain": [
       "(3911, 10)"
      ]
     },
     "execution_count": 9,
     "metadata": {},
     "output_type": "execute_result"
    }
   ],
   "source": [
    "cd.shape"
   ]
  },
  {
   "cell_type": "code",
   "execution_count": 10,
   "id": "98cada95-1c82-400e-bb71-8dbb17f27923",
   "metadata": {},
   "outputs": [
    {
     "data": {
      "text/plain": [
       "(3911, 15)"
      ]
     },
     "execution_count": 10,
     "metadata": {},
     "output_type": "execute_result"
    }
   ],
   "source": [
    "#merge demographic and address data \n",
    "data=pd.merge(cd,ad, how='left')\n",
    "data.shape"
   ]
  },
  {
   "cell_type": "code",
   "execution_count": 11,
   "id": "d4a01839-9d03-4627-a618-3aa1d6076791",
   "metadata": {},
   "outputs": [
    {
     "name": "stdout",
     "output_type": "stream",
     "text": [
      "<class 'pandas.core.frame.DataFrame'>\n",
      "Int64Index: 3911 entries, 0 to 3910\n",
      "Data columns (total 15 columns):\n",
      " #   Column                               Non-Null Count  Dtype         \n",
      "---  ------                               --------------  -----         \n",
      " 0   customer_id                          3911 non-null   int64         \n",
      " 1   gender                               3911 non-null   object        \n",
      " 2   past_3_years_bike_related_purchases  3911 non-null   int64         \n",
      " 3   DOB                                  3911 non-null   datetime64[ns]\n",
      " 4   job_title                            3414 non-null   object        \n",
      " 5   job_industry_category                3255 non-null   object        \n",
      " 6   wealth_segment                       3911 non-null   object        \n",
      " 7   deceased_indicator                   3911 non-null   object        \n",
      " 8   owns_car                             3911 non-null   object        \n",
      " 9   tenure                               3911 non-null   float64       \n",
      " 10  address                              3907 non-null   object        \n",
      " 11  postcode                             3907 non-null   float64       \n",
      " 12  state                                3907 non-null   object        \n",
      " 13  country                              3907 non-null   object        \n",
      " 14  property_valuation                   3907 non-null   float64       \n",
      "dtypes: datetime64[ns](1), float64(3), int64(2), object(9)\n",
      "memory usage: 488.9+ KB\n"
     ]
    }
   ],
   "source": [
    "data.info()"
   ]
  },
  {
   "cell_type": "code",
   "execution_count": 12,
   "id": "fd7f1284-d590-4c82-9334-65945aff05e5",
   "metadata": {},
   "outputs": [
    {
     "data": {
      "text/plain": [
       "customer_id                              0\n",
       "gender                                   0\n",
       "past_3_years_bike_related_purchases      0\n",
       "DOB                                      0\n",
       "job_title                              497\n",
       "job_industry_category                  656\n",
       "wealth_segment                           0\n",
       "deceased_indicator                       0\n",
       "owns_car                                 0\n",
       "tenure                                   0\n",
       "address                                  4\n",
       "postcode                                 4\n",
       "state                                    4\n",
       "country                                  4\n",
       "property_valuation                       4\n",
       "dtype: int64"
      ]
     },
     "execution_count": 12,
     "metadata": {},
     "output_type": "execute_result"
    }
   ],
   "source": [
    "data.isna().sum()"
   ]
  },
  {
   "cell_type": "code",
   "execution_count": 13,
   "id": "71ed7066-bce0-48f9-8238-f1f253aacfa6",
   "metadata": {},
   "outputs": [
    {
     "data": {
      "text/plain": [
       "(3911, 13)"
      ]
     },
     "execution_count": 13,
     "metadata": {},
     "output_type": "execute_result"
    }
   ],
   "source": [
    "data.drop(columns=['address','country'], inplace=True)\n",
    "data.shape"
   ]
  },
  {
   "cell_type": "code",
   "execution_count": 14,
   "id": "4c4060ab-ef23-405c-ac79-efb3201bcca3",
   "metadata": {},
   "outputs": [
    {
     "data": {
      "text/plain": [
       "Female         2038\n",
       "Male           1872\n",
       "Unspecified       1\n",
       "Name: gender, dtype: int64"
      ]
     },
     "execution_count": 14,
     "metadata": {},
     "output_type": "execute_result"
    }
   ],
   "source": [
    "#mitigating inconsistencies in gender field\n",
    "chg=['Femal','F']\n",
    "m=['M']\n",
    "u=['U']\n",
    "data['gender'].replace(to_replace=chg,value='Female', inplace=True)\n",
    "data['gender'].replace(to_replace=m,value='Male', inplace=True)\n",
    "data['gender'].replace(to_replace=u,value='Unspecified', inplace=True)\n",
    "data['gender'].value_counts()\n",
    "data['gender'].value_counts()"
   ]
  },
  {
   "cell_type": "code",
   "execution_count": 15,
   "id": "4d362e4b-d9cc-4edf-8a18-5db8374ee205",
   "metadata": {},
   "outputs": [],
   "source": [
    "data.dropna(subset=['state'],inplace=True)"
   ]
  },
  {
   "cell_type": "code",
   "execution_count": 16,
   "id": "bfb4aeee-a29d-4fe8-9c9b-b478f9cfc946",
   "metadata": {},
   "outputs": [
    {
     "data": {
      "text/plain": [
       "(3907, 13)"
      ]
     },
     "execution_count": 16,
     "metadata": {},
     "output_type": "execute_result"
    }
   ],
   "source": [
    "data.shape"
   ]
  },
  {
   "cell_type": "code",
   "execution_count": 17,
   "id": "5fa6d196-51df-44d6-a0c6-a59b6a62db87",
   "metadata": {},
   "outputs": [
    {
     "name": "stderr",
     "output_type": "stream",
     "text": [
      "C:\\Users\\ERIA\\AppData\\Local\\Temp/ipykernel_3160/3780420313.py:1: FutureWarning: Treating datetime data as categorical rather than numeric in `.describe` is deprecated and will be removed in a future version of pandas. Specify `datetime_is_numeric=True` to silence this warning and adopt the future behavior now.\n",
      "  data['DOB'].describe()\n"
     ]
    },
    {
     "data": {
      "text/plain": [
       "count                    3907\n",
       "unique                   3442\n",
       "top       1978-01-30 00:00:00\n",
       "freq                        7\n",
       "first     1843-12-21 00:00:00\n",
       "last      2002-03-11 00:00:00\n",
       "Name: DOB, dtype: object"
      ]
     },
     "execution_count": 17,
     "metadata": {},
     "output_type": "execute_result"
    }
   ],
   "source": [
    "data['DOB'].describe()"
   ]
  },
  {
   "cell_type": "code",
   "execution_count": 18,
   "id": "5de4e9ee-d995-4f6a-aecc-d6fe861b137c",
   "metadata": {},
   "outputs": [],
   "source": [
    "#replacing 1843 with 1943\n",
    "data['DOB'].replace('1843-12-21 00:00:00','1943-12-21 00:00:00', inplace=True)"
   ]
  },
  {
   "cell_type": "code",
   "execution_count": 19,
   "id": "18a80f97-29a5-49c1-9d29-9f52eecdb217",
   "metadata": {},
   "outputs": [
    {
     "data": {
      "text/html": [
       "<div>\n",
       "<style scoped>\n",
       "    .dataframe tbody tr th:only-of-type {\n",
       "        vertical-align: middle;\n",
       "    }\n",
       "\n",
       "    .dataframe tbody tr th {\n",
       "        vertical-align: top;\n",
       "    }\n",
       "\n",
       "    .dataframe thead th {\n",
       "        text-align: right;\n",
       "    }\n",
       "</style>\n",
       "<table border=\"1\" class=\"dataframe\">\n",
       "  <thead>\n",
       "    <tr style=\"text-align: right;\">\n",
       "      <th></th>\n",
       "      <th>customer_id</th>\n",
       "      <th>gender</th>\n",
       "      <th>past_3_years_bike_related_purchases</th>\n",
       "      <th>DOB</th>\n",
       "      <th>job_title</th>\n",
       "      <th>job_industry_category</th>\n",
       "      <th>wealth_segment</th>\n",
       "      <th>deceased_indicator</th>\n",
       "      <th>owns_car</th>\n",
       "      <th>tenure</th>\n",
       "      <th>postcode</th>\n",
       "      <th>state</th>\n",
       "      <th>property_valuation</th>\n",
       "      <th>YOB</th>\n",
       "    </tr>\n",
       "  </thead>\n",
       "  <tbody>\n",
       "    <tr>\n",
       "      <th>0</th>\n",
       "      <td>1</td>\n",
       "      <td>Female</td>\n",
       "      <td>93</td>\n",
       "      <td>1953-10-12</td>\n",
       "      <td>Executive Secretary</td>\n",
       "      <td>Health</td>\n",
       "      <td>Mass Customer</td>\n",
       "      <td>N</td>\n",
       "      <td>Yes</td>\n",
       "      <td>11.0</td>\n",
       "      <td>2016.0</td>\n",
       "      <td>New South Wales</td>\n",
       "      <td>10.0</td>\n",
       "      <td>1953</td>\n",
       "    </tr>\n",
       "    <tr>\n",
       "      <th>1</th>\n",
       "      <td>2</td>\n",
       "      <td>Male</td>\n",
       "      <td>81</td>\n",
       "      <td>1980-12-16</td>\n",
       "      <td>Administrative Officer</td>\n",
       "      <td>Financial Services</td>\n",
       "      <td>Mass Customer</td>\n",
       "      <td>N</td>\n",
       "      <td>Yes</td>\n",
       "      <td>16.0</td>\n",
       "      <td>2153.0</td>\n",
       "      <td>New South Wales</td>\n",
       "      <td>10.0</td>\n",
       "      <td>1980</td>\n",
       "    </tr>\n",
       "    <tr>\n",
       "      <th>3</th>\n",
       "      <td>4</td>\n",
       "      <td>Male</td>\n",
       "      <td>33</td>\n",
       "      <td>1961-10-03</td>\n",
       "      <td>NaN</td>\n",
       "      <td>IT</td>\n",
       "      <td>Mass Customer</td>\n",
       "      <td>N</td>\n",
       "      <td>No</td>\n",
       "      <td>7.0</td>\n",
       "      <td>4211.0</td>\n",
       "      <td>QLD</td>\n",
       "      <td>9.0</td>\n",
       "      <td>1961</td>\n",
       "    </tr>\n",
       "    <tr>\n",
       "      <th>4</th>\n",
       "      <td>5</td>\n",
       "      <td>Female</td>\n",
       "      <td>56</td>\n",
       "      <td>1977-05-13</td>\n",
       "      <td>Senior Editor</td>\n",
       "      <td>NaN</td>\n",
       "      <td>Affluent Customer</td>\n",
       "      <td>N</td>\n",
       "      <td>Yes</td>\n",
       "      <td>8.0</td>\n",
       "      <td>2448.0</td>\n",
       "      <td>New South Wales</td>\n",
       "      <td>4.0</td>\n",
       "      <td>1977</td>\n",
       "    </tr>\n",
       "    <tr>\n",
       "      <th>5</th>\n",
       "      <td>6</td>\n",
       "      <td>Male</td>\n",
       "      <td>35</td>\n",
       "      <td>1966-09-16</td>\n",
       "      <td>NaN</td>\n",
       "      <td>Retail</td>\n",
       "      <td>High Net Worth</td>\n",
       "      <td>N</td>\n",
       "      <td>Yes</td>\n",
       "      <td>13.0</td>\n",
       "      <td>3216.0</td>\n",
       "      <td>VIC</td>\n",
       "      <td>9.0</td>\n",
       "      <td>1966</td>\n",
       "    </tr>\n",
       "  </tbody>\n",
       "</table>\n",
       "</div>"
      ],
      "text/plain": [
       "   customer_id  gender  past_3_years_bike_related_purchases        DOB  \\\n",
       "0            1  Female                                   93 1953-10-12   \n",
       "1            2    Male                                   81 1980-12-16   \n",
       "3            4    Male                                   33 1961-10-03   \n",
       "4            5  Female                                   56 1977-05-13   \n",
       "5            6    Male                                   35 1966-09-16   \n",
       "\n",
       "                job_title job_industry_category     wealth_segment  \\\n",
       "0     Executive Secretary                Health      Mass Customer   \n",
       "1  Administrative Officer    Financial Services      Mass Customer   \n",
       "3                     NaN                    IT      Mass Customer   \n",
       "4           Senior Editor                   NaN  Affluent Customer   \n",
       "5                     NaN                Retail     High Net Worth   \n",
       "\n",
       "  deceased_indicator owns_car  tenure  postcode            state  \\\n",
       "0                  N      Yes    11.0    2016.0  New South Wales   \n",
       "1                  N      Yes    16.0    2153.0  New South Wales   \n",
       "3                  N       No     7.0    4211.0              QLD   \n",
       "4                  N      Yes     8.0    2448.0  New South Wales   \n",
       "5                  N      Yes    13.0    3216.0              VIC   \n",
       "\n",
       "   property_valuation   YOB  \n",
       "0                10.0  1953  \n",
       "1                10.0  1980  \n",
       "3                 9.0  1961  \n",
       "4                 4.0  1977  \n",
       "5                 9.0  1966  "
      ]
     },
     "execution_count": 19,
     "metadata": {},
     "output_type": "execute_result"
    }
   ],
   "source": [
    "#creating age column\n",
    "data['YOB']=pd.DatetimeIndex(data['DOB']).year\n",
    "data.head()"
   ]
  },
  {
   "cell_type": "code",
   "execution_count": 20,
   "id": "c9fb7428-ea9b-41bc-b5ca-cdf3eba61fff",
   "metadata": {},
   "outputs": [
    {
     "data": {
      "text/html": [
       "<div>\n",
       "<style scoped>\n",
       "    .dataframe tbody tr th:only-of-type {\n",
       "        vertical-align: middle;\n",
       "    }\n",
       "\n",
       "    .dataframe tbody tr th {\n",
       "        vertical-align: top;\n",
       "    }\n",
       "\n",
       "    .dataframe thead th {\n",
       "        text-align: right;\n",
       "    }\n",
       "</style>\n",
       "<table border=\"1\" class=\"dataframe\">\n",
       "  <thead>\n",
       "    <tr style=\"text-align: right;\">\n",
       "      <th></th>\n",
       "      <th>customer_id</th>\n",
       "      <th>gender</th>\n",
       "      <th>past_3_years_bike_related_purchases</th>\n",
       "      <th>DOB</th>\n",
       "      <th>job_title</th>\n",
       "      <th>job_industry_category</th>\n",
       "      <th>wealth_segment</th>\n",
       "      <th>deceased_indicator</th>\n",
       "      <th>owns_car</th>\n",
       "      <th>tenure</th>\n",
       "      <th>postcode</th>\n",
       "      <th>state</th>\n",
       "      <th>property_valuation</th>\n",
       "      <th>YOB</th>\n",
       "      <th>AGE</th>\n",
       "    </tr>\n",
       "  </thead>\n",
       "  <tbody>\n",
       "    <tr>\n",
       "      <th>0</th>\n",
       "      <td>1</td>\n",
       "      <td>Female</td>\n",
       "      <td>93</td>\n",
       "      <td>1953-10-12</td>\n",
       "      <td>Executive Secretary</td>\n",
       "      <td>Health</td>\n",
       "      <td>Mass Customer</td>\n",
       "      <td>N</td>\n",
       "      <td>Yes</td>\n",
       "      <td>11.0</td>\n",
       "      <td>2016.0</td>\n",
       "      <td>New South Wales</td>\n",
       "      <td>10.0</td>\n",
       "      <td>1953</td>\n",
       "      <td>65</td>\n",
       "    </tr>\n",
       "    <tr>\n",
       "      <th>1</th>\n",
       "      <td>2</td>\n",
       "      <td>Male</td>\n",
       "      <td>81</td>\n",
       "      <td>1980-12-16</td>\n",
       "      <td>Administrative Officer</td>\n",
       "      <td>Financial Services</td>\n",
       "      <td>Mass Customer</td>\n",
       "      <td>N</td>\n",
       "      <td>Yes</td>\n",
       "      <td>16.0</td>\n",
       "      <td>2153.0</td>\n",
       "      <td>New South Wales</td>\n",
       "      <td>10.0</td>\n",
       "      <td>1980</td>\n",
       "      <td>38</td>\n",
       "    </tr>\n",
       "    <tr>\n",
       "      <th>3</th>\n",
       "      <td>4</td>\n",
       "      <td>Male</td>\n",
       "      <td>33</td>\n",
       "      <td>1961-10-03</td>\n",
       "      <td>NaN</td>\n",
       "      <td>IT</td>\n",
       "      <td>Mass Customer</td>\n",
       "      <td>N</td>\n",
       "      <td>No</td>\n",
       "      <td>7.0</td>\n",
       "      <td>4211.0</td>\n",
       "      <td>QLD</td>\n",
       "      <td>9.0</td>\n",
       "      <td>1961</td>\n",
       "      <td>57</td>\n",
       "    </tr>\n",
       "    <tr>\n",
       "      <th>4</th>\n",
       "      <td>5</td>\n",
       "      <td>Female</td>\n",
       "      <td>56</td>\n",
       "      <td>1977-05-13</td>\n",
       "      <td>Senior Editor</td>\n",
       "      <td>NaN</td>\n",
       "      <td>Affluent Customer</td>\n",
       "      <td>N</td>\n",
       "      <td>Yes</td>\n",
       "      <td>8.0</td>\n",
       "      <td>2448.0</td>\n",
       "      <td>New South Wales</td>\n",
       "      <td>4.0</td>\n",
       "      <td>1977</td>\n",
       "      <td>41</td>\n",
       "    </tr>\n",
       "    <tr>\n",
       "      <th>5</th>\n",
       "      <td>6</td>\n",
       "      <td>Male</td>\n",
       "      <td>35</td>\n",
       "      <td>1966-09-16</td>\n",
       "      <td>NaN</td>\n",
       "      <td>Retail</td>\n",
       "      <td>High Net Worth</td>\n",
       "      <td>N</td>\n",
       "      <td>Yes</td>\n",
       "      <td>13.0</td>\n",
       "      <td>3216.0</td>\n",
       "      <td>VIC</td>\n",
       "      <td>9.0</td>\n",
       "      <td>1966</td>\n",
       "      <td>52</td>\n",
       "    </tr>\n",
       "  </tbody>\n",
       "</table>\n",
       "</div>"
      ],
      "text/plain": [
       "   customer_id  gender  past_3_years_bike_related_purchases        DOB  \\\n",
       "0            1  Female                                   93 1953-10-12   \n",
       "1            2    Male                                   81 1980-12-16   \n",
       "3            4    Male                                   33 1961-10-03   \n",
       "4            5  Female                                   56 1977-05-13   \n",
       "5            6    Male                                   35 1966-09-16   \n",
       "\n",
       "                job_title job_industry_category     wealth_segment  \\\n",
       "0     Executive Secretary                Health      Mass Customer   \n",
       "1  Administrative Officer    Financial Services      Mass Customer   \n",
       "3                     NaN                    IT      Mass Customer   \n",
       "4           Senior Editor                   NaN  Affluent Customer   \n",
       "5                     NaN                Retail     High Net Worth   \n",
       "\n",
       "  deceased_indicator owns_car  tenure  postcode            state  \\\n",
       "0                  N      Yes    11.0    2016.0  New South Wales   \n",
       "1                  N      Yes    16.0    2153.0  New South Wales   \n",
       "3                  N       No     7.0    4211.0              QLD   \n",
       "4                  N      Yes     8.0    2448.0  New South Wales   \n",
       "5                  N      Yes    13.0    3216.0              VIC   \n",
       "\n",
       "   property_valuation   YOB  AGE  \n",
       "0                10.0  1953   65  \n",
       "1                10.0  1980   38  \n",
       "3                 9.0  1961   57  \n",
       "4                 4.0  1977   41  \n",
       "5                 9.0  1966   52  "
      ]
     },
     "execution_count": 20,
     "metadata": {},
     "output_type": "execute_result"
    }
   ],
   "source": [
    "data['AGE']=2018-data['YOB']\n",
    "data.head()"
   ]
  },
  {
   "cell_type": "code",
   "execution_count": 21,
   "id": "474d0cb2-2b98-4beb-8218-cab4bc23d8d6",
   "metadata": {},
   "outputs": [],
   "source": [
    "data.drop(columns=['YOB'],inplace=True)"
   ]
  },
  {
   "cell_type": "code",
   "execution_count": 22,
   "id": "d03eaa35-28bb-42e5-8c0b-357e9f67e5cf",
   "metadata": {},
   "outputs": [
    {
     "data": {
      "text/plain": [
       "count    3907.000000\n",
       "mean       40.934988\n",
       "std        12.621103\n",
       "min        16.000000\n",
       "25%        31.000000\n",
       "50%        41.000000\n",
       "75%        50.000000\n",
       "max        87.000000\n",
       "Name: AGE, dtype: float64"
      ]
     },
     "execution_count": 22,
     "metadata": {},
     "output_type": "execute_result"
    }
   ],
   "source": [
    "data['AGE'].describe()"
   ]
  },
  {
   "cell_type": "code",
   "execution_count": 23,
   "id": "98e11136-cc6e-4a26-a4a5-030c91e91697",
   "metadata": {},
   "outputs": [],
   "source": [
    "#creating groups by binning\n",
    "bins=np.linspace(min(data['AGE']),max(data['AGE']),5)"
   ]
  },
  {
   "cell_type": "code",
   "execution_count": 24,
   "id": "587a7653-deb6-42f0-b019-abf7a68c5d87",
   "metadata": {},
   "outputs": [
    {
     "data": {
      "text/plain": [
       "array([16.  , 33.75, 51.5 , 69.25, 87.  ])"
      ]
     },
     "execution_count": 24,
     "metadata": {},
     "output_type": "execute_result"
    }
   ],
   "source": [
    "bins"
   ]
  },
  {
   "cell_type": "code",
   "execution_count": 25,
   "id": "13b5294b-4d00-4a64-8f11-b57bde02a846",
   "metadata": {},
   "outputs": [
    {
     "data": {
      "text/plain": [
       "middle age    1823\n",
       "youths        1188\n",
       "seniors        890\n",
       "elderly          6\n",
       "Name: Age_bin, dtype: int64"
      ]
     },
     "execution_count": 25,
     "metadata": {},
     "output_type": "execute_result"
    }
   ],
   "source": [
    "group_names=['youths','middle age','seniors','elderly']\n",
    "data['Age_bin']=pd.cut(data['AGE'],bins,labels=group_names,include_lowest=True)\n",
    "data['Age_bin'].value_counts() "
   ]
  },
  {
   "cell_type": "code",
   "execution_count": 26,
   "id": "fc8e1f86-bb6b-450b-93d9-c6eacc4c8e46",
   "metadata": {},
   "outputs": [
    {
     "data": {
      "text/html": [
       "<div>\n",
       "<style scoped>\n",
       "    .dataframe tbody tr th:only-of-type {\n",
       "        vertical-align: middle;\n",
       "    }\n",
       "\n",
       "    .dataframe tbody tr th {\n",
       "        vertical-align: top;\n",
       "    }\n",
       "\n",
       "    .dataframe thead th {\n",
       "        text-align: right;\n",
       "    }\n",
       "</style>\n",
       "<table border=\"1\" class=\"dataframe\">\n",
       "  <thead>\n",
       "    <tr style=\"text-align: right;\">\n",
       "      <th></th>\n",
       "      <th>customer_id</th>\n",
       "      <th>past_3_years_bike_related_purchases</th>\n",
       "      <th>tenure</th>\n",
       "      <th>postcode</th>\n",
       "      <th>property_valuation</th>\n",
       "      <th>AGE</th>\n",
       "    </tr>\n",
       "  </thead>\n",
       "  <tbody>\n",
       "    <tr>\n",
       "      <th>count</th>\n",
       "      <td>6.000000</td>\n",
       "      <td>6.000000</td>\n",
       "      <td>6.000000</td>\n",
       "      <td>6.000000</td>\n",
       "      <td>6.000000</td>\n",
       "      <td>6.000000</td>\n",
       "    </tr>\n",
       "    <tr>\n",
       "      <th>mean</th>\n",
       "      <td>1387.833333</td>\n",
       "      <td>56.666667</td>\n",
       "      <td>12.000000</td>\n",
       "      <td>2920.666667</td>\n",
       "      <td>8.000000</td>\n",
       "      <td>78.666667</td>\n",
       "    </tr>\n",
       "    <tr>\n",
       "      <th>std</th>\n",
       "      <td>1268.003536</td>\n",
       "      <td>23.070905</td>\n",
       "      <td>6.418723</td>\n",
       "      <td>767.627166</td>\n",
       "      <td>2.607681</td>\n",
       "      <td>5.240865</td>\n",
       "    </tr>\n",
       "    <tr>\n",
       "      <th>min</th>\n",
       "      <td>34.000000</td>\n",
       "      <td>27.000000</td>\n",
       "      <td>5.000000</td>\n",
       "      <td>2026.000000</td>\n",
       "      <td>3.000000</td>\n",
       "      <td>74.000000</td>\n",
       "    </tr>\n",
       "    <tr>\n",
       "      <th>25%</th>\n",
       "      <td>673.500000</td>\n",
       "      <td>42.500000</td>\n",
       "      <td>6.500000</td>\n",
       "      <td>2293.000000</td>\n",
       "      <td>8.000000</td>\n",
       "      <td>75.000000</td>\n",
       "    </tr>\n",
       "    <tr>\n",
       "      <th>50%</th>\n",
       "      <td>906.000000</td>\n",
       "      <td>57.500000</td>\n",
       "      <td>12.000000</td>\n",
       "      <td>3053.500000</td>\n",
       "      <td>8.500000</td>\n",
       "      <td>76.500000</td>\n",
       "    </tr>\n",
       "    <tr>\n",
       "      <th>75%</th>\n",
       "      <td>2082.750000</td>\n",
       "      <td>65.000000</td>\n",
       "      <td>16.750000</td>\n",
       "      <td>3273.250000</td>\n",
       "      <td>9.750000</td>\n",
       "      <td>81.750000</td>\n",
       "    </tr>\n",
       "    <tr>\n",
       "      <th>max</th>\n",
       "      <td>3410.000000</td>\n",
       "      <td>93.000000</td>\n",
       "      <td>20.000000</td>\n",
       "      <td>4005.000000</td>\n",
       "      <td>10.000000</td>\n",
       "      <td>87.000000</td>\n",
       "    </tr>\n",
       "  </tbody>\n",
       "</table>\n",
       "</div>"
      ],
      "text/plain": [
       "       customer_id  past_3_years_bike_related_purchases     tenure  \\\n",
       "count     6.000000                             6.000000   6.000000   \n",
       "mean   1387.833333                            56.666667  12.000000   \n",
       "std    1268.003536                            23.070905   6.418723   \n",
       "min      34.000000                            27.000000   5.000000   \n",
       "25%     673.500000                            42.500000   6.500000   \n",
       "50%     906.000000                            57.500000  12.000000   \n",
       "75%    2082.750000                            65.000000  16.750000   \n",
       "max    3410.000000                            93.000000  20.000000   \n",
       "\n",
       "          postcode  property_valuation        AGE  \n",
       "count     6.000000            6.000000   6.000000  \n",
       "mean   2920.666667            8.000000  78.666667  \n",
       "std     767.627166            2.607681   5.240865  \n",
       "min    2026.000000            3.000000  74.000000  \n",
       "25%    2293.000000            8.000000  75.000000  \n",
       "50%    3053.500000            8.500000  76.500000  \n",
       "75%    3273.250000            9.750000  81.750000  \n",
       "max    4005.000000           10.000000  87.000000  "
      ]
     },
     "execution_count": 26,
     "metadata": {},
     "output_type": "execute_result"
    }
   ],
   "source": [
    "data[data['Age_bin']=='elderly'].describe()"
   ]
  },
  {
   "cell_type": "code",
   "execution_count": 27,
   "id": "61141234-ec80-4cd9-84c9-a5bc445a2e87",
   "metadata": {},
   "outputs": [
    {
     "data": {
      "text/html": [
       "<div>\n",
       "<style scoped>\n",
       "    .dataframe tbody tr th:only-of-type {\n",
       "        vertical-align: middle;\n",
       "    }\n",
       "\n",
       "    .dataframe tbody tr th {\n",
       "        vertical-align: top;\n",
       "    }\n",
       "\n",
       "    .dataframe thead th {\n",
       "        text-align: right;\n",
       "    }\n",
       "</style>\n",
       "<table border=\"1\" class=\"dataframe\">\n",
       "  <thead>\n",
       "    <tr style=\"text-align: right;\">\n",
       "      <th></th>\n",
       "      <th>customer_id</th>\n",
       "      <th>past_3_years_bike_related_purchases</th>\n",
       "      <th>tenure</th>\n",
       "      <th>postcode</th>\n",
       "      <th>property_valuation</th>\n",
       "      <th>AGE</th>\n",
       "    </tr>\n",
       "  </thead>\n",
       "  <tbody>\n",
       "    <tr>\n",
       "      <th>count</th>\n",
       "      <td>1188.000000</td>\n",
       "      <td>1188.000000</td>\n",
       "      <td>1188.000000</td>\n",
       "      <td>1188.000000</td>\n",
       "      <td>1188.000000</td>\n",
       "      <td>1188.000000</td>\n",
       "    </tr>\n",
       "    <tr>\n",
       "      <th>mean</th>\n",
       "      <td>2009.351010</td>\n",
       "      <td>49.612795</td>\n",
       "      <td>7.069024</td>\n",
       "      <td>3011.637205</td>\n",
       "      <td>7.470539</td>\n",
       "      <td>25.676768</td>\n",
       "    </tr>\n",
       "    <tr>\n",
       "      <th>std</th>\n",
       "      <td>1142.599808</td>\n",
       "      <td>28.778325</td>\n",
       "      <td>5.744954</td>\n",
       "      <td>865.207039</td>\n",
       "      <td>2.837641</td>\n",
       "      <td>4.879498</td>\n",
       "    </tr>\n",
       "    <tr>\n",
       "      <th>min</th>\n",
       "      <td>12.000000</td>\n",
       "      <td>0.000000</td>\n",
       "      <td>1.000000</td>\n",
       "      <td>2009.000000</td>\n",
       "      <td>1.000000</td>\n",
       "      <td>16.000000</td>\n",
       "    </tr>\n",
       "    <tr>\n",
       "      <th>25%</th>\n",
       "      <td>1057.250000</td>\n",
       "      <td>25.000000</td>\n",
       "      <td>2.000000</td>\n",
       "      <td>2200.000000</td>\n",
       "      <td>6.000000</td>\n",
       "      <td>22.000000</td>\n",
       "    </tr>\n",
       "    <tr>\n",
       "      <th>50%</th>\n",
       "      <td>1976.000000</td>\n",
       "      <td>50.000000</td>\n",
       "      <td>5.000000</td>\n",
       "      <td>2768.000000</td>\n",
       "      <td>8.000000</td>\n",
       "      <td>26.000000</td>\n",
       "    </tr>\n",
       "    <tr>\n",
       "      <th>75%</th>\n",
       "      <td>3027.000000</td>\n",
       "      <td>74.000000</td>\n",
       "      <td>10.000000</td>\n",
       "      <td>3810.000000</td>\n",
       "      <td>10.000000</td>\n",
       "      <td>30.000000</td>\n",
       "    </tr>\n",
       "    <tr>\n",
       "      <th>max</th>\n",
       "      <td>4000.000000</td>\n",
       "      <td>99.000000</td>\n",
       "      <td>22.000000</td>\n",
       "      <td>4883.000000</td>\n",
       "      <td>12.000000</td>\n",
       "      <td>33.000000</td>\n",
       "    </tr>\n",
       "  </tbody>\n",
       "</table>\n",
       "</div>"
      ],
      "text/plain": [
       "       customer_id  past_3_years_bike_related_purchases       tenure  \\\n",
       "count  1188.000000                          1188.000000  1188.000000   \n",
       "mean   2009.351010                            49.612795     7.069024   \n",
       "std    1142.599808                            28.778325     5.744954   \n",
       "min      12.000000                             0.000000     1.000000   \n",
       "25%    1057.250000                            25.000000     2.000000   \n",
       "50%    1976.000000                            50.000000     5.000000   \n",
       "75%    3027.000000                            74.000000    10.000000   \n",
       "max    4000.000000                            99.000000    22.000000   \n",
       "\n",
       "          postcode  property_valuation          AGE  \n",
       "count  1188.000000         1188.000000  1188.000000  \n",
       "mean   3011.637205            7.470539    25.676768  \n",
       "std     865.207039            2.837641     4.879498  \n",
       "min    2009.000000            1.000000    16.000000  \n",
       "25%    2200.000000            6.000000    22.000000  \n",
       "50%    2768.000000            8.000000    26.000000  \n",
       "75%    3810.000000           10.000000    30.000000  \n",
       "max    4883.000000           12.000000    33.000000  "
      ]
     },
     "execution_count": 27,
     "metadata": {},
     "output_type": "execute_result"
    }
   ],
   "source": [
    "data[data['Age_bin']=='youths'].describe()"
   ]
  },
  {
   "cell_type": "code",
   "execution_count": 28,
   "id": "928462e8-4f6a-4436-819f-a1a7fc5ee51c",
   "metadata": {
    "scrolled": true,
    "tags": []
   },
   "outputs": [
    {
     "name": "stdout",
     "output_type": "stream",
     "text": [
      "<class 'pandas.core.frame.DataFrame'>\n",
      "Int64Index: 3907 entries, 0 to 3910\n",
      "Data columns (total 15 columns):\n",
      " #   Column                               Non-Null Count  Dtype         \n",
      "---  ------                               --------------  -----         \n",
      " 0   customer_id                          3907 non-null   int64         \n",
      " 1   gender                               3907 non-null   object        \n",
      " 2   past_3_years_bike_related_purchases  3907 non-null   int64         \n",
      " 3   DOB                                  3907 non-null   datetime64[ns]\n",
      " 4   job_title                            3412 non-null   object        \n",
      " 5   job_industry_category                3252 non-null   object        \n",
      " 6   wealth_segment                       3907 non-null   object        \n",
      " 7   deceased_indicator                   3907 non-null   object        \n",
      " 8   owns_car                             3907 non-null   object        \n",
      " 9   tenure                               3907 non-null   float64       \n",
      " 10  postcode                             3907 non-null   float64       \n",
      " 11  state                                3907 non-null   object        \n",
      " 12  property_valuation                   3907 non-null   float64       \n",
      " 13  AGE                                  3907 non-null   int64         \n",
      " 14  Age_bin                              3907 non-null   category      \n",
      "dtypes: category(1), datetime64[ns](1), float64(3), int64(3), object(7)\n",
      "memory usage: 461.9+ KB\n"
     ]
    }
   ],
   "source": [
    "data.info()"
   ]
  },
  {
   "cell_type": "code",
   "execution_count": 29,
   "id": "86550f67-c12a-4114-9541-856654c9cf5c",
   "metadata": {},
   "outputs": [
    {
     "data": {
      "text/plain": [
       "NSW                2003\n",
       "VIC                 918\n",
       "QLD                 822\n",
       "New South Wales      85\n",
       "Victoria             79\n",
       "Name: state, dtype: int64"
      ]
     },
     "execution_count": 29,
     "metadata": {},
     "output_type": "execute_result"
    }
   ],
   "source": [
    "data['state'].value_counts()"
   ]
  },
  {
   "cell_type": "code",
   "execution_count": 30,
   "id": "0f8d3235-64ef-49e0-a33f-d0f7622fc69c",
   "metadata": {},
   "outputs": [
    {
     "data": {
      "text/plain": [
       "NSW    2088\n",
       "VIC     997\n",
       "QLD     822\n",
       "Name: state, dtype: int64"
      ]
     },
     "execution_count": 30,
     "metadata": {},
     "output_type": "execute_result"
    }
   ],
   "source": [
    "#fixing inconsistencies in state values\n",
    "data.replace(to_replace=['New South Wales'],value='NSW', inplace=True)\n",
    "data.replace(to_replace=['Victoria'],value='VIC', inplace=True)\n",
    "data['state'].value_counts()"
   ]
  },
  {
   "cell_type": "code",
   "execution_count": 33,
   "id": "9d125a43-8eea-434a-ac68-c1ed6c9bb85a",
   "metadata": {},
   "outputs": [
    {
     "data": {
      "text/plain": [
       "(3907, 15)"
      ]
     },
     "execution_count": 33,
     "metadata": {},
     "output_type": "execute_result"
    }
   ],
   "source": [
    "data.shape"
   ]
  },
  {
   "cell_type": "code",
   "execution_count": 31,
   "id": "20b70237-37da-4a81-a1ce-a87c51393557",
   "metadata": {
    "scrolled": true,
    "tags": []
   },
   "outputs": [
    {
     "name": "stdout",
     "output_type": "stream",
     "text": [
      "<class 'pandas.core.frame.DataFrame'>\n",
      "Int64Index: 3907 entries, 0 to 3910\n",
      "Data columns (total 15 columns):\n",
      " #   Column                               Non-Null Count  Dtype         \n",
      "---  ------                               --------------  -----         \n",
      " 0   customer_id                          3907 non-null   int64         \n",
      " 1   gender                               3907 non-null   object        \n",
      " 2   past_3_years_bike_related_purchases  3907 non-null   int64         \n",
      " 3   DOB                                  3907 non-null   datetime64[ns]\n",
      " 4   job_title                            3412 non-null   object        \n",
      " 5   job_industry_category                3252 non-null   object        \n",
      " 6   wealth_segment                       3907 non-null   object        \n",
      " 7   deceased_indicator                   3907 non-null   object        \n",
      " 8   owns_car                             3907 non-null   object        \n",
      " 9   tenure                               3907 non-null   float64       \n",
      " 10  postcode                             3907 non-null   float64       \n",
      " 11  state                                3907 non-null   object        \n",
      " 12  property_valuation                   3907 non-null   float64       \n",
      " 13  AGE                                  3907 non-null   int64         \n",
      " 14  Age_bin                              3907 non-null   category      \n",
      "dtypes: category(1), datetime64[ns](1), float64(3), int64(3), object(7)\n",
      "memory usage: 461.9+ KB\n"
     ]
    }
   ],
   "source": [
    "data.info()"
   ]
  },
  {
   "cell_type": "code",
   "execution_count": 38,
   "id": "8efeef8c-0499-40c8-851d-ed96c3fee63d",
   "metadata": {},
   "outputs": [
    {
     "data": {
      "text/plain": [
       "Female         2036\n",
       "Male           1870\n",
       "Unspecified       1\n",
       "Name: gender, dtype: int64"
      ]
     },
     "execution_count": 38,
     "metadata": {},
     "output_type": "execute_result"
    }
   ],
   "source": [
    "data['gender'].value_counts()"
   ]
  },
  {
   "cell_type": "code",
   "execution_count": 39,
   "id": "6e8a59de-028d-448c-b958-2a666f64cd55",
   "metadata": {},
   "outputs": [
    {
     "data": {
      "text/plain": [
       "Text(0.5, 1.0, 'gender distribution')"
      ]
     },
     "execution_count": 39,
     "metadata": {},
     "output_type": "execute_result"
    },
    {
     "data": {
      "image/png": "[encoded data removed]",
      "text/plain": [
       "<Figure size 720x360 with 1 Axes>"
      ]
     },
     "metadata": {
      "needs_background": "light"
     },
     "output_type": "display_data"
    }
   ],
   "source": [
    "#gender distribution \n",
    "plt.figure(figsize=(10,5))\n",
    "sns.countplot(x=data['gender'])\n",
    "plt.title('gender distribution')"
   ]
  },
  {
   "cell_type": "code",
   "execution_count": 36,
   "id": "e3a255eb-5d85-45d5-9ede-e32ab21c1c97",
   "metadata": {},
   "outputs": [
    {
     "data": {
      "text/html": [
       "<div>\n",
       "<style scoped>\n",
       "    .dataframe tbody tr th:only-of-type {\n",
       "        vertical-align: middle;\n",
       "    }\n",
       "\n",
       "    .dataframe tbody tr th {\n",
       "        vertical-align: top;\n",
       "    }\n",
       "\n",
       "    .dataframe thead th {\n",
       "        text-align: right;\n",
       "    }\n",
       "</style>\n",
       "<table border=\"1\" class=\"dataframe\">\n",
       "  <thead>\n",
       "    <tr style=\"text-align: right;\">\n",
       "      <th></th>\n",
       "      <th>past_3_years_bike_related_purchases</th>\n",
       "    </tr>\n",
       "    <tr>\n",
       "      <th>gender</th>\n",
       "      <th></th>\n",
       "    </tr>\n",
       "  </thead>\n",
       "  <tbody>\n",
       "    <tr>\n",
       "      <th>Female</th>\n",
       "      <td>98149</td>\n",
       "    </tr>\n",
       "    <tr>\n",
       "      <th>Male</th>\n",
       "      <td>93288</td>\n",
       "    </tr>\n",
       "    <tr>\n",
       "      <th>Unspecified</th>\n",
       "      <td>59</td>\n",
       "    </tr>\n",
       "  </tbody>\n",
       "</table>\n",
       "</div>"
      ],
      "text/plain": [
       "             past_3_years_bike_related_purchases\n",
       "gender                                          \n",
       "Female                                     98149\n",
       "Male                                       93288\n",
       "Unspecified                                   59"
      ]
     },
     "execution_count": 36,
     "metadata": {},
     "output_type": "execute_result"
    }
   ],
   "source": [
    "#gender by last 3 years bike_purchases\n",
    "a=data.groupby('gender').agg({'past_3_years_bike_related_purchases':sum})\n",
    "a"
   ]
  },
  {
   "cell_type": "code",
   "execution_count": 40,
   "id": "b219ba7e-7030-45bb-8ac6-8806e3d67452",
   "metadata": {},
   "outputs": [
    {
     "data": {
      "text/plain": [
       "Text(0.5, 1.0, 'past_3_years_bike_related_purchases by gender')"
      ]
     },
     "execution_count": 40,
     "metadata": {},
     "output_type": "execute_result"
    },
    {
     "data": {
      "image/png": "[encoded data removed]",
      "text/plain": [
       "<Figure size 432x288 with 1 Axes>"
      ]
     },
     "metadata": {
      "needs_background": "light"
     },
     "output_type": "display_data"
    }
   ],
   "source": [
    "sns.barplot(x=a.index,y=a['past_3_years_bike_related_purchases'])\n",
    "plt.title('past_3_years_bike_related_purchases by gender')"
   ]
  },
  {
   "cell_type": "code",
   "execution_count": 41,
   "id": "ffab86d8-a65f-450a-9a6a-ac0de950dbef",
   "metadata": {
    "scrolled": true,
    "tags": []
   },
   "outputs": [
    {
     "name": "stdout",
     "output_type": "stream",
     "text": [
      "<class 'pandas.core.frame.DataFrame'>\n",
      "Int64Index: 3907 entries, 0 to 3910\n",
      "Data columns (total 15 columns):\n",
      " #   Column                               Non-Null Count  Dtype         \n",
      "---  ------                               --------------  -----         \n",
      " 0   customer_id                          3907 non-null   int64         \n",
      " 1   gender                               3907 non-null   object        \n",
      " 2   past_3_years_bike_related_purchases  3907 non-null   int64         \n",
      " 3   DOB                                  3907 non-null   datetime64[ns]\n",
      " 4   job_title                            3412 non-null   object        \n",
      " 5   job_industry_category                3252 non-null   object        \n",
      " 6   wealth_segment                       3907 non-null   object        \n",
      " 7   deceased_indicator                   3907 non-null   object        \n",
      " 8   owns_car                             3907 non-null   object        \n",
      " 9   tenure                               3907 non-null   float64       \n",
      " 10  postcode                             3907 non-null   float64       \n",
      " 11  state                                3907 non-null   object        \n",
      " 12  property_valuation                   3907 non-null   float64       \n",
      " 13  AGE                                  3907 non-null   int64         \n",
      " 14  Age_bin                              3907 non-null   category      \n",
      "dtypes: category(1), datetime64[ns](1), float64(3), int64(3), object(7)\n",
      "memory usage: 590.9+ KB\n"
     ]
    }
   ],
   "source": [
    "data.info()"
   ]
  },
  {
   "cell_type": "code",
   "execution_count": 47,
   "id": "1096c1fe-13f0-4c7a-82de-bcf19e1d8a8a",
   "metadata": {},
   "outputs": [
    {
     "data": {
      "text/html": [
       "<div>\n",
       "<style scoped>\n",
       "    .dataframe tbody tr th:only-of-type {\n",
       "        vertical-align: middle;\n",
       "    }\n",
       "\n",
       "    .dataframe tbody tr th {\n",
       "        vertical-align: top;\n",
       "    }\n",
       "\n",
       "    .dataframe thead th {\n",
       "        text-align: right;\n",
       "    }\n",
       "</style>\n",
       "<table border=\"1\" class=\"dataframe\">\n",
       "  <thead>\n",
       "    <tr style=\"text-align: right;\">\n",
       "      <th></th>\n",
       "      <th>past_3_years_bike_related_purchases</th>\n",
       "    </tr>\n",
       "    <tr>\n",
       "      <th>job_industry_category</th>\n",
       "      <th></th>\n",
       "    </tr>\n",
       "  </thead>\n",
       "  <tbody>\n",
       "    <tr>\n",
       "      <th>Argiculture</th>\n",
       "      <td>5945</td>\n",
       "    </tr>\n",
       "    <tr>\n",
       "      <th>Entertainment</th>\n",
       "      <td>6320</td>\n",
       "    </tr>\n",
       "    <tr>\n",
       "      <th>Financial Services</th>\n",
       "      <td>37115</td>\n",
       "    </tr>\n",
       "    <tr>\n",
       "      <th>Health</th>\n",
       "      <td>29774</td>\n",
       "    </tr>\n",
       "    <tr>\n",
       "      <th>IT</th>\n",
       "      <td>7411</td>\n",
       "    </tr>\n",
       "    <tr>\n",
       "      <th>Manufacturing</th>\n",
       "      <td>39121</td>\n",
       "    </tr>\n",
       "    <tr>\n",
       "      <th>Property</th>\n",
       "      <td>13233</td>\n",
       "    </tr>\n",
       "    <tr>\n",
       "      <th>Retail</th>\n",
       "      <td>17210</td>\n",
       "    </tr>\n",
       "    <tr>\n",
       "      <th>Telecommunications</th>\n",
       "      <td>3244</td>\n",
       "    </tr>\n",
       "  </tbody>\n",
       "</table>\n",
       "</div>"
      ],
      "text/plain": [
       "                       past_3_years_bike_related_purchases\n",
       "job_industry_category                                     \n",
       "Argiculture                                           5945\n",
       "Entertainment                                         6320\n",
       "Financial Services                                   37115\n",
       "Health                                               29774\n",
       "IT                                                    7411\n",
       "Manufacturing                                        39121\n",
       "Property                                             13233\n",
       "Retail                                               17210\n",
       "Telecommunications                                    3244"
      ]
     },
     "execution_count": 47,
     "metadata": {},
     "output_type": "execute_result"
    }
   ],
   "source": [
    "b=data.groupby('job_industry_category').agg({'past_3_years_bike_related_purchases':sum})\n",
    "b"
   ]
  },
  {
   "cell_type": "code",
   "execution_count": 64,
   "id": "88e712f3-fdf9-4b5b-a7e5-21d0aed29ec8",
   "metadata": {},
   "outputs": [
    {
     "data": {
      "text/plain": [
       "Manufacturing         796\n",
       "Financial Services    766\n",
       "Health                595\n",
       "Retail                357\n",
       "Property              266\n",
       "IT                    151\n",
       "Entertainment         136\n",
       "Argiculture           113\n",
       "Telecommunications     72\n",
       "Name: job_industry_category, dtype: int64"
      ]
     },
     "execution_count": 64,
     "metadata": {},
     "output_type": "execute_result"
    }
   ],
   "source": [
    "data['job_industry_category'].value_counts()"
   ]
  },
  {
   "cell_type": "code",
   "execution_count": 48,
   "id": "e4ec5f04-8cbf-472f-8ef0-fd7c19b2fb33",
   "metadata": {},
   "outputs": [
    {
     "data": {
      "text/plain": [
       "Text(0.5, 1.0, 'past_3_years_bike_related_purchases by job industry')"
      ]
     },
     "execution_count": 48,
     "metadata": {},
     "output_type": "execute_result"
    },
    {
     "data": {
      "image/png": "[encoded data removed]",
      "text/plain": [
       "<Figure size 1440x360 with 1 Axes>"
      ]
     },
     "metadata": {
      "needs_background": "light"
     },
     "output_type": "display_data"
    }
   ],
   "source": [
    "plt.figure(figsize=(20,5))\n",
    "sns.barplot(x=b.index ,y=b['past_3_years_bike_related_purchases'])\n",
    "plt.title('past_3_years_bike_related_purchases by job industry')"
   ]
  },
  {
   "cell_type": "code",
   "execution_count": 50,
   "id": "e170eae2-c8c0-49bc-b8ff-68850aa0febc",
   "metadata": {},
   "outputs": [
    {
     "data": {
      "text/html": [
       "<div>\n",
       "<style scoped>\n",
       "    .dataframe tbody tr th:only-of-type {\n",
       "        vertical-align: middle;\n",
       "    }\n",
       "\n",
       "    .dataframe tbody tr th {\n",
       "        vertical-align: top;\n",
       "    }\n",
       "\n",
       "    .dataframe thead th {\n",
       "        text-align: right;\n",
       "    }\n",
       "</style>\n",
       "<table border=\"1\" class=\"dataframe\">\n",
       "  <thead>\n",
       "    <tr style=\"text-align: right;\">\n",
       "      <th></th>\n",
       "      <th>past_3_years_bike_related_purchases</th>\n",
       "    </tr>\n",
       "    <tr>\n",
       "      <th>wealth_segment</th>\n",
       "      <th></th>\n",
       "    </tr>\n",
       "  </thead>\n",
       "  <tbody>\n",
       "    <tr>\n",
       "      <th>Affluent Customer</th>\n",
       "      <td>47115</td>\n",
       "    </tr>\n",
       "    <tr>\n",
       "      <th>High Net Worth</th>\n",
       "      <td>47270</td>\n",
       "    </tr>\n",
       "    <tr>\n",
       "      <th>Mass Customer</th>\n",
       "      <td>97111</td>\n",
       "    </tr>\n",
       "  </tbody>\n",
       "</table>\n",
       "</div>"
      ],
      "text/plain": [
       "                   past_3_years_bike_related_purchases\n",
       "wealth_segment                                        \n",
       "Affluent Customer                                47115\n",
       "High Net Worth                                   47270\n",
       "Mass Customer                                    97111"
      ]
     },
     "execution_count": 50,
     "metadata": {},
     "output_type": "execute_result"
    }
   ],
   "source": [
    "c=data.groupby('wealth_segment').agg({'past_3_years_bike_related_purchases':sum})\n",
    "c"
   ]
  },
  {
   "cell_type": "code",
   "execution_count": 65,
   "id": "f475531b-7857-46a9-9145-59b2e7283450",
   "metadata": {},
   "outputs": [
    {
     "data": {
      "text/plain": [
       "Mass Customer        1950\n",
       "High Net Worth        995\n",
       "Affluent Customer     962\n",
       "Name: wealth_segment, dtype: int64"
      ]
     },
     "execution_count": 65,
     "metadata": {},
     "output_type": "execute_result"
    }
   ],
   "source": [
    "data['wealth_segment'].value_counts()"
   ]
  },
  {
   "cell_type": "code",
   "execution_count": 51,
   "id": "6c58ef50-cc8d-4ae9-9ceb-ab257aa3e696",
   "metadata": {},
   "outputs": [
    {
     "data": {
      "text/plain": [
       "Text(0.5, 1.0, 'past_3_years_bike_related_purchases by wealth_segment')"
      ]
     },
     "execution_count": 51,
     "metadata": {},
     "output_type": "execute_result"
    },
    {
     "data": {
      "image/png": "[encoded data removed]",
      "text/plain": [
       "<Figure size 432x288 with 1 Axes>"
      ]
     },
     "metadata": {
      "needs_background": "light"
     },
     "output_type": "display_data"
    }
   ],
   "source": [
    "sns.barplot(x=c.index,y=c['past_3_years_bike_related_purchases'])\n",
    "plt.title('past_3_years_bike_related_purchases by wealth_segment')"
   ]
  },
  {
   "cell_type": "code",
   "execution_count": 52,
   "id": "458114b4-4e1e-4b03-b39e-fd409a7e7ffc",
   "metadata": {
    "scrolled": true,
    "tags": []
   },
   "outputs": [
    {
     "name": "stdout",
     "output_type": "stream",
     "text": [
      "<class 'pandas.core.frame.DataFrame'>\n",
      "Int64Index: 3907 entries, 0 to 3910\n",
      "Data columns (total 15 columns):\n",
      " #   Column                               Non-Null Count  Dtype         \n",
      "---  ------                               --------------  -----         \n",
      " 0   customer_id                          3907 non-null   int64         \n",
      " 1   gender                               3907 non-null   object        \n",
      " 2   past_3_years_bike_related_purchases  3907 non-null   int64         \n",
      " 3   DOB                                  3907 non-null   datetime64[ns]\n",
      " 4   job_title                            3412 non-null   object        \n",
      " 5   job_industry_category                3252 non-null   object        \n",
      " 6   wealth_segment                       3907 non-null   object        \n",
      " 7   deceased_indicator                   3907 non-null   object        \n",
      " 8   owns_car                             3907 non-null   object        \n",
      " 9   tenure                               3907 non-null   float64       \n",
      " 10  postcode                             3907 non-null   float64       \n",
      " 11  state                                3907 non-null   object        \n",
      " 12  property_valuation                   3907 non-null   float64       \n",
      " 13  AGE                                  3907 non-null   int64         \n",
      " 14  Age_bin                              3907 non-null   category      \n",
      "dtypes: category(1), datetime64[ns](1), float64(3), int64(3), object(7)\n",
      "memory usage: 590.9+ KB\n"
     ]
    }
   ],
   "source": [
    "data.info()"
   ]
  },
  {
   "cell_type": "code",
   "execution_count": 53,
   "id": "27c2b9db-fabd-4020-902a-849832035a37",
   "metadata": {},
   "outputs": [
    {
     "data": {
      "text/html": [
       "<div>\n",
       "<style scoped>\n",
       "    .dataframe tbody tr th:only-of-type {\n",
       "        vertical-align: middle;\n",
       "    }\n",
       "\n",
       "    .dataframe tbody tr th {\n",
       "        vertical-align: top;\n",
       "    }\n",
       "\n",
       "    .dataframe thead th {\n",
       "        text-align: right;\n",
       "    }\n",
       "</style>\n",
       "<table border=\"1\" class=\"dataframe\">\n",
       "  <thead>\n",
       "    <tr style=\"text-align: right;\">\n",
       "      <th></th>\n",
       "      <th>past_3_years_bike_related_purchases</th>\n",
       "    </tr>\n",
       "    <tr>\n",
       "      <th>owns_car</th>\n",
       "      <th></th>\n",
       "    </tr>\n",
       "  </thead>\n",
       "  <tbody>\n",
       "    <tr>\n",
       "      <th>No</th>\n",
       "      <td>95667</td>\n",
       "    </tr>\n",
       "    <tr>\n",
       "      <th>Yes</th>\n",
       "      <td>95829</td>\n",
       "    </tr>\n",
       "  </tbody>\n",
       "</table>\n",
       "</div>"
      ],
      "text/plain": [
       "          past_3_years_bike_related_purchases\n",
       "owns_car                                     \n",
       "No                                      95667\n",
       "Yes                                     95829"
      ]
     },
     "execution_count": 53,
     "metadata": {},
     "output_type": "execute_result"
    }
   ],
   "source": [
    "#bike purchases by car ownership\n",
    "d=data.groupby('owns_car').agg({'past_3_years_bike_related_purchases':sum})\n",
    "d"
   ]
  },
  {
   "cell_type": "code",
   "execution_count": 63,
   "id": "2f5bb178-4946-4373-924e-b49e5181aabc",
   "metadata": {},
   "outputs": [
    {
     "data": {
      "text/plain": [
       "Yes    1969\n",
       "No     1938\n",
       "Name: owns_car, dtype: int64"
      ]
     },
     "execution_count": 63,
     "metadata": {},
     "output_type": "execute_result"
    }
   ],
   "source": [
    "data['owns_car'].value_counts()"
   ]
  },
  {
   "cell_type": "code",
   "execution_count": 55,
   "id": "ae4a51cd-b754-436a-93e0-82cb0c084aa9",
   "metadata": {},
   "outputs": [
    {
     "data": {
      "text/plain": [
       "count    3907.000000\n",
       "mean       10.657538\n",
       "std         5.659429\n",
       "min         1.000000\n",
       "25%         6.000000\n",
       "50%        11.000000\n",
       "75%        15.000000\n",
       "max        22.000000\n",
       "Name: tenure, dtype: float64"
      ]
     },
     "execution_count": 55,
     "metadata": {},
     "output_type": "execute_result"
    }
   ],
   "source": [
    "data['tenure'].describe()"
   ]
  },
  {
   "cell_type": "code",
   "execution_count": 56,
   "id": "3646336b-cbf9-4c4f-ad7c-3fac8ee4cd1a",
   "metadata": {
    "scrolled": true,
    "tags": []
   },
   "outputs": [
    {
     "data": {
      "text/html": [
       "<div>\n",
       "<style scoped>\n",
       "    .dataframe tbody tr th:only-of-type {\n",
       "        vertical-align: middle;\n",
       "    }\n",
       "\n",
       "    .dataframe tbody tr th {\n",
       "        vertical-align: top;\n",
       "    }\n",
       "\n",
       "    .dataframe thead th {\n",
       "        text-align: right;\n",
       "    }\n",
       "</style>\n",
       "<table border=\"1\" class=\"dataframe\">\n",
       "  <thead>\n",
       "    <tr style=\"text-align: right;\">\n",
       "      <th></th>\n",
       "      <th>past_3_years_bike_related_purchases</th>\n",
       "    </tr>\n",
       "    <tr>\n",
       "      <th>tenure</th>\n",
       "      <th></th>\n",
       "    </tr>\n",
       "  </thead>\n",
       "  <tbody>\n",
       "    <tr>\n",
       "      <th>1.0</th>\n",
       "      <td>8638</td>\n",
       "    </tr>\n",
       "    <tr>\n",
       "      <th>2.0</th>\n",
       "      <td>7417</td>\n",
       "    </tr>\n",
       "    <tr>\n",
       "      <th>3.0</th>\n",
       "      <td>8516</td>\n",
       "    </tr>\n",
       "    <tr>\n",
       "      <th>4.0</th>\n",
       "      <td>8580</td>\n",
       "    </tr>\n",
       "    <tr>\n",
       "      <th>5.0</th>\n",
       "      <td>10611</td>\n",
       "    </tr>\n",
       "    <tr>\n",
       "      <th>6.0</th>\n",
       "      <td>9414</td>\n",
       "    </tr>\n",
       "    <tr>\n",
       "      <th>7.0</th>\n",
       "      <td>11640</td>\n",
       "    </tr>\n",
       "    <tr>\n",
       "      <th>8.0</th>\n",
       "      <td>9920</td>\n",
       "    </tr>\n",
       "    <tr>\n",
       "      <th>9.0</th>\n",
       "      <td>9538</td>\n",
       "    </tr>\n",
       "    <tr>\n",
       "      <th>10.0</th>\n",
       "      <td>10943</td>\n",
       "    </tr>\n",
       "    <tr>\n",
       "      <th>11.0</th>\n",
       "      <td>10165</td>\n",
       "    </tr>\n",
       "    <tr>\n",
       "      <th>12.0</th>\n",
       "      <td>11276</td>\n",
       "    </tr>\n",
       "    <tr>\n",
       "      <th>13.0</th>\n",
       "      <td>9111</td>\n",
       "    </tr>\n",
       "    <tr>\n",
       "      <th>14.0</th>\n",
       "      <td>10157</td>\n",
       "    </tr>\n",
       "    <tr>\n",
       "      <th>15.0</th>\n",
       "      <td>8824</td>\n",
       "    </tr>\n",
       "    <tr>\n",
       "      <th>16.0</th>\n",
       "      <td>10564</td>\n",
       "    </tr>\n",
       "    <tr>\n",
       "      <th>17.0</th>\n",
       "      <td>8926</td>\n",
       "    </tr>\n",
       "    <tr>\n",
       "      <th>18.0</th>\n",
       "      <td>9976</td>\n",
       "    </tr>\n",
       "    <tr>\n",
       "      <th>19.0</th>\n",
       "      <td>7728</td>\n",
       "    </tr>\n",
       "    <tr>\n",
       "      <th>20.0</th>\n",
       "      <td>4525</td>\n",
       "    </tr>\n",
       "    <tr>\n",
       "      <th>21.0</th>\n",
       "      <td>2456</td>\n",
       "    </tr>\n",
       "    <tr>\n",
       "      <th>22.0</th>\n",
       "      <td>2571</td>\n",
       "    </tr>\n",
       "  </tbody>\n",
       "</table>\n",
       "</div>"
      ],
      "text/plain": [
       "        past_3_years_bike_related_purchases\n",
       "tenure                                     \n",
       "1.0                                    8638\n",
       "2.0                                    7417\n",
       "3.0                                    8516\n",
       "4.0                                    8580\n",
       "5.0                                   10611\n",
       "6.0                                    9414\n",
       "7.0                                   11640\n",
       "8.0                                    9920\n",
       "9.0                                    9538\n",
       "10.0                                  10943\n",
       "11.0                                  10165\n",
       "12.0                                  11276\n",
       "13.0                                   9111\n",
       "14.0                                  10157\n",
       "15.0                                   8824\n",
       "16.0                                  10564\n",
       "17.0                                   8926\n",
       "18.0                                   9976\n",
       "19.0                                   7728\n",
       "20.0                                   4525\n",
       "21.0                                   2456\n",
       "22.0                                   2571"
      ]
     },
     "execution_count": 56,
     "metadata": {},
     "output_type": "execute_result"
    }
   ],
   "source": [
    "e=data.groupby('tenure').agg({'past_3_years_bike_related_purchases':sum})\n",
    "e"
   ]
  },
  {
   "cell_type": "code",
   "execution_count": 58,
   "id": "ce100aff-fe47-49b1-8f16-742a7ef38e74",
   "metadata": {},
   "outputs": [
    {
     "data": {
      "text/plain": [
       "Text(0.5, 1.0, 'past_3_years_bike_related_purchases by tenure')"
      ]
     },
     "execution_count": 58,
     "metadata": {},
     "output_type": "execute_result"
    },
    {
     "data": {
      "image/png": "[encoded data removed]",
      "text/plain": [
       "<Figure size 1440x360 with 1 Axes>"
      ]
     },
     "metadata": {
      "needs_background": "light"
     },
     "output_type": "display_data"
    }
   ],
   "source": [
    "plt.figure(figsize=(20,5))\n",
    "sns.barplot(x=e.index,y=e['past_3_years_bike_related_purchases'])\n",
    "plt.title('past_3_years_bike_related_purchases by tenure')"
   ]
  },
  {
   "cell_type": "code",
   "execution_count": 59,
   "id": "a19ef72a-bc09-40b6-9baa-488bfe3d1aac",
   "metadata": {
    "scrolled": true,
    "tags": []
   },
   "outputs": [
    {
     "name": "stdout",
     "output_type": "stream",
     "text": [
      "<class 'pandas.core.frame.DataFrame'>\n",
      "Int64Index: 3907 entries, 0 to 3910\n",
      "Data columns (total 15 columns):\n",
      " #   Column                               Non-Null Count  Dtype         \n",
      "---  ------                               --------------  -----         \n",
      " 0   customer_id                          3907 non-null   int64         \n",
      " 1   gender                               3907 non-null   object        \n",
      " 2   past_3_years_bike_related_purchases  3907 non-null   int64         \n",
      " 3   DOB                                  3907 non-null   datetime64[ns]\n",
      " 4   job_title                            3412 non-null   object        \n",
      " 5   job_industry_category                3252 non-null   object        \n",
      " 6   wealth_segment                       3907 non-null   object        \n",
      " 7   deceased_indicator                   3907 non-null   object        \n",
      " 8   owns_car                             3907 non-null   object        \n",
      " 9   tenure                               3907 non-null   float64       \n",
      " 10  postcode                             3907 non-null   float64       \n",
      " 11  state                                3907 non-null   object        \n",
      " 12  property_valuation                   3907 non-null   float64       \n",
      " 13  AGE                                  3907 non-null   int64         \n",
      " 14  Age_bin                              3907 non-null   category      \n",
      "dtypes: category(1), datetime64[ns](1), float64(3), int64(3), object(7)\n",
      "memory usage: 590.9+ KB\n"
     ]
    }
   ],
   "source": [
    "data.info()"
   ]
  },
  {
   "cell_type": "code",
   "execution_count": 60,
   "id": "673404b8-c9a9-4639-bd90-2eac4eff64c4",
   "metadata": {},
   "outputs": [
    {
     "data": {
      "text/html": [
       "<div>\n",
       "<style scoped>\n",
       "    .dataframe tbody tr th:only-of-type {\n",
       "        vertical-align: middle;\n",
       "    }\n",
       "\n",
       "    .dataframe tbody tr th {\n",
       "        vertical-align: top;\n",
       "    }\n",
       "\n",
       "    .dataframe thead th {\n",
       "        text-align: right;\n",
       "    }\n",
       "</style>\n",
       "<table border=\"1\" class=\"dataframe\">\n",
       "  <thead>\n",
       "    <tr style=\"text-align: right;\">\n",
       "      <th></th>\n",
       "      <th>past_3_years_bike_related_purchases</th>\n",
       "    </tr>\n",
       "    <tr>\n",
       "      <th>state</th>\n",
       "      <th></th>\n",
       "    </tr>\n",
       "  </thead>\n",
       "  <tbody>\n",
       "    <tr>\n",
       "      <th>NSW</th>\n",
       "      <td>102543</td>\n",
       "    </tr>\n",
       "    <tr>\n",
       "      <th>QLD</th>\n",
       "      <td>40609</td>\n",
       "    </tr>\n",
       "    <tr>\n",
       "      <th>VIC</th>\n",
       "      <td>48344</td>\n",
       "    </tr>\n",
       "  </tbody>\n",
       "</table>\n",
       "</div>"
      ],
      "text/plain": [
       "       past_3_years_bike_related_purchases\n",
       "state                                     \n",
       "NSW                                 102543\n",
       "QLD                                  40609\n",
       "VIC                                  48344"
      ]
     },
     "execution_count": 60,
     "metadata": {},
     "output_type": "execute_result"
    }
   ],
   "source": [
    "f=data.groupby('state').agg({'past_3_years_bike_related_purchases':sum})\n",
    "f"
   ]
  },
  {
   "cell_type": "code",
   "execution_count": 61,
   "id": "22054324-80d5-4468-a68a-c252465e47c1",
   "metadata": {},
   "outputs": [
    {
     "data": {
      "text/plain": [
       "Text(0.5, 1.0, 'past_3_years_bike_related_purchases by state')"
      ]
     },
     "execution_count": 61,
     "metadata": {},
     "output_type": "execute_result"
    },
    {
     "data": {
      "image/png": "[encoded data removed]",
      "text/plain": [
       "<Figure size 432x288 with 1 Axes>"
      ]
     },
     "metadata": {
      "needs_background": "light"
     },
     "output_type": "display_data"
    }
   ],
   "source": [
    "sns.barplot(x=f.index, y=f['past_3_years_bike_related_purchases'])\n",
    "plt.title('past_3_years_bike_related_purchases by state')"
   ]
  },
  {
   "cell_type": "code",
   "execution_count": 62,
   "id": "e3a81431-2351-4688-ade6-e6a243aafc44",
   "metadata": {},
   "outputs": [
    {
     "data": {
      "text/plain": [
       "NSW    2088\n",
       "VIC     997\n",
       "QLD     822\n",
       "Name: state, dtype: int64"
      ]
     },
     "execution_count": 62,
     "metadata": {},
     "output_type": "execute_result"
    }
   ],
   "source": [
    "data['state'].value_counts() "
   ]
  },
  {
   "cell_type": "code",
   "execution_count": 66,
   "id": "c76cce45-ab59-41d8-9035-54d3babd9ef7",
   "metadata": {},
   "outputs": [
    {
     "data": {
      "text/html": [
       "<div>\n",
       "<style scoped>\n",
       "    .dataframe tbody tr th:only-of-type {\n",
       "        vertical-align: middle;\n",
       "    }\n",
       "\n",
       "    .dataframe tbody tr th {\n",
       "        vertical-align: top;\n",
       "    }\n",
       "\n",
       "    .dataframe thead th {\n",
       "        text-align: right;\n",
       "    }\n",
       "</style>\n",
       "<table border=\"1\" class=\"dataframe\">\n",
       "  <thead>\n",
       "    <tr style=\"text-align: right;\">\n",
       "      <th></th>\n",
       "      <th>past_3_years_bike_related_purchases</th>\n",
       "    </tr>\n",
       "    <tr>\n",
       "      <th>Age_bin</th>\n",
       "      <th></th>\n",
       "    </tr>\n",
       "  </thead>\n",
       "  <tbody>\n",
       "    <tr>\n",
       "      <th>youths</th>\n",
       "      <td>58940</td>\n",
       "    </tr>\n",
       "    <tr>\n",
       "      <th>middle age</th>\n",
       "      <td>89921</td>\n",
       "    </tr>\n",
       "    <tr>\n",
       "      <th>seniors</th>\n",
       "      <td>42295</td>\n",
       "    </tr>\n",
       "    <tr>\n",
       "      <th>elderly</th>\n",
       "      <td>340</td>\n",
       "    </tr>\n",
       "  </tbody>\n",
       "</table>\n",
       "</div>"
      ],
      "text/plain": [
       "            past_3_years_bike_related_purchases\n",
       "Age_bin                                        \n",
       "youths                                    58940\n",
       "middle age                                89921\n",
       "seniors                                   42295\n",
       "elderly                                     340"
      ]
     },
     "execution_count": 66,
     "metadata": {},
     "output_type": "execute_result"
    }
   ],
   "source": [
    "g=data.groupby('Age_bin').agg({'past_3_years_bike_related_purchases':sum})\n",
    "g"
   ]
  },
  {
   "cell_type": "code",
   "execution_count": 67,
   "id": "94d158a9-65e0-45f9-af3e-a8beae5376d9",
   "metadata": {},
   "outputs": [
    {
     "data": {
      "text/plain": [
       "middle age    1823\n",
       "youths        1188\n",
       "seniors        890\n",
       "elderly          6\n",
       "Name: Age_bin, dtype: int64"
      ]
     },
     "execution_count": 67,
     "metadata": {},
     "output_type": "execute_result"
    }
   ],
   "source": [
    "data['Age_bin'].value_counts()"
   ]
  },
  {
   "cell_type": "code",
   "execution_count": 68,
   "id": "c5382d51-fd9b-4122-9130-584981228d53",
   "metadata": {
    "tags": []
   },
   "outputs": [
    {
     "data": {
      "text/plain": [
       "Text(0.5, 1.0, 'past_3_years_bike_related_purchases by age groups')"
      ]
     },
     "execution_count": 68,
     "metadata": {},
     "output_type": "execute_result"
    },
    {
     "data": {
      "image/png": "[encoded data removed]",
      "text/plain": [
       "<Figure size 432x288 with 1 Axes>"
      ]
     },
     "metadata": {
      "needs_background": "light"
     },
     "output_type": "display_data"
    }
   ],
   "source": [
    "sns.barplot(x=g.index,y=g['past_3_years_bike_related_purchases'])\n",
    "plt.title('past_3_years_bike_related_purchases by age groups')"
   ]
  },
  {
   "cell_type": "code",
   "execution_count": 69,
   "id": "d6ccfb64-ee0d-4e8f-8349-b3fc1a6949b1",
   "metadata": {},
   "outputs": [
    {
     "name": "stdout",
     "output_type": "stream",
     "text": [
      "<class 'pandas.core.frame.DataFrame'>\n",
      "Int64Index: 3907 entries, 0 to 3910\n",
      "Data columns (total 15 columns):\n",
      " #   Column                               Non-Null Count  Dtype         \n",
      "---  ------                               --------------  -----         \n",
      " 0   customer_id                          3907 non-null   int64         \n",
      " 1   gender                               3907 non-null   object        \n",
      " 2   past_3_years_bike_related_purchases  3907 non-null   int64         \n",
      " 3   DOB                                  3907 non-null   datetime64[ns]\n",
      " 4   job_title                            3412 non-null   object        \n",
      " 5   job_industry_category                3252 non-null   object        \n",
      " 6   wealth_segment                       3907 non-null   object        \n",
      " 7   deceased_indicator                   3907 non-null   object        \n",
      " 8   owns_car                             3907 non-null   object        \n",
      " 9   tenure                               3907 non-null   float64       \n",
      " 10  postcode                             3907 non-null   float64       \n",
      " 11  state                                3907 non-null   object        \n",
      " 12  property_valuation                   3907 non-null   float64       \n",
      " 13  AGE                                  3907 non-null   int64         \n",
      " 14  Age_bin                              3907 non-null   category      \n",
      "dtypes: category(1), datetime64[ns](1), float64(3), int64(3), object(7)\n",
      "memory usage: 590.9+ KB\n"
     ]
    }
   ],
   "source": [
    "data.info()"
   ]
  },
  {
   "cell_type": "code",
   "execution_count": null,
   "id": "9fc1be3c-8e61-40db-b222-be81ee14f7cb",
   "metadata": {},
   "outputs": [],
   "source": []
  }
 ],
 "metadata": {
  "kernelspec": {
   "display_name": "Python 3 (ipykernel)",
   "language": "python",
   "name": "python3"
  },
  "language_info": {
   "codemirror_mode": {
    "name": "ipython",
    "version": 3
   },
   "file_extension": ".py",
   "mimetype": "text/x-python",
   "name": "python",
   "nbconvert_exporter": "python",
   "pygments_lexer": "ipython3",
   "version": "3.8.12"
  },
  "widgets": {
   "application/vnd.jupyter.widget-state+json": {
    "state": {},
    "version_major": 2,
    "version_minor": 0
   }
  }
 },
 "nbformat": 4,
 "nbformat_minor": 5
}
